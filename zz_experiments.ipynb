{
 "cells": [
  {
   "cell_type": "markdown",
   "metadata": {},
   "source": [
    "# Experiments with Llama 2"
   ]
  },
  {
   "cell_type": "code",
   "execution_count": 2,
   "metadata": {},
   "outputs": [
    {
     "name": "stdout",
     "output_type": "stream",
     "text": [
      "The autoreload extension is already loaded. To reload it, use:\n",
      "  %reload_ext autoreload\n"
     ]
    }
   ],
   "source": [
    "%load_ext autoreload\n",
    "%autoreload 1\n",
    "\n",
    "import math\n",
    "import os\n",
    "import time\n",
    "from contextlib import nullcontext\n",
    "from datetime import datetime\n",
    "from functools import partial\n",
    "\n",
    "import torch\n",
    "from model import Transformer, ModelArgs\n",
    "from torch.distributed import destroy_process_group, init_process_group\n",
    "from torch.nn.parallel import DistributedDataParallel as DDP\n",
    "\n",
    "from tinystories import Task\n",
    "from export import model_export\n"
   ]
  },
  {
   "cell_type": "markdown",
   "metadata": {},
   "source": [
    "## Config\n"
   ]
  },
  {
   "cell_type": "code",
   "execution_count": 3,
   "metadata": {},
   "outputs": [],
   "source": [
    "# config\n",
    "\n",
    "# -----------------------------------------------------------------------------\n",
    "# I/O\n",
    "out_dir = \"out\"\n",
    "eval_interval = 2000\n",
    "log_interval = 1\n",
    "eval_iters = 100\n",
    "eval_only = False  # if True, script exits right after the first eval\n",
    "always_save_checkpoint = False  # if True, always save a checkpoint after each eval\n",
    "init_from = \"scratch\"  # 'scratch' or 'resume'\n",
    "# wandb logging\n",
    "wandb_log = False  # disabled by default\n",
    "wandb_project = \"llamac\"\n",
    "wandb_run_name = \"run\" + datetime.now().strftime(\"%Y_%m_%d_%H_%M_%S\")\n",
    "# data\n",
    "batch_size = 3  # if gradient_accumulation_steps > 1, this is the micro-batch size\n",
    "max_seq_len = 512\n",
    "vocab_source = \"llama2\" # llama2|custom; use Lllama 2 vocab from Meta, or custom trained\n",
    "vocab_size = 32000 # the Llama 2 tokenizer has 32K tokens\n",
    "# model\n",
    "dim = 64\n",
    "n_layers = 5\n",
    "n_heads = 8\n",
    "n_kv_heads = 4\n",
    "multiple_of = 32  # bylo 32 - bacha\n",
    "dropout = 0.0\n",
    "num_future_tokens = 4\n",
    "# adamw optimizer\n",
    "gradient_accumulation_steps = 4  # used to simulate larger batch sizes\n",
    "learning_rate = 5e-4  # max learning rate\n",
    "max_iters = 100000  # total number of training iterations\n",
    "weight_decay = 1e-1\n",
    "beta1 = 0.9\n",
    "beta2 = 0.95\n",
    "grad_clip = 1.0  # clip gradients at this value, or disable if == 0.0\n",
    "# learning rate decay settings\n",
    "decay_lr = True  # whether to decay the learning rate\n",
    "warmup_iters = 1000  # how many steps to warm up for\n",
    "# system\n",
    "device = \"cpu\"  # examples: 'cpu', 'cuda', 'cuda:0', 'cuda:1' etc., or try 'mps' on macbooks\n",
    "dtype = \"bfloat16\"  # float32|bfloat16|float16\n",
    "compile = True  # use PyTorch 2.0 to compile the model to be faster\n",
    "# num_output_heads = 4 # !!!!! multitoken prediction parameter\n",
    "# -----------------------------------------------------------------------------\n",
    "config_keys = [\n",
    "    k\n",
    "    for k, v in globals().items()\n",
    "    if not k.startswith(\"_\") and isinstance(v, (int, float, bool, str))\n",
    "]\n",
    "\n",
    "# fixing some hyperparams to sensible defaults\n",
    "lr_decay_iters = max_iters  # should be ~= max_iters per Chinchilla\n",
    "min_lr = 0.0  # minimum learning rate, should be ~= learning_rate/10 per Chinchilla\n"
   ]
  },
  {
   "cell_type": "markdown",
   "metadata": {},
   "source": [
    "## Further setting"
   ]
  },
  {
   "cell_type": "code",
   "execution_count": 4,
   "metadata": {},
   "outputs": [
    {
     "name": "stdout",
     "output_type": "stream",
     "text": [
      "tokens per iteration will be: 6,144\n",
      "breaks down as: 4 grad accum steps * 1 processes * 3 batch size * 512 max seq len\n"
     ]
    }
   ],
   "source": [
    "# validating checks\n",
    "assert vocab_source in [\"llama2\", \"custom\"]\n",
    "assert vocab_source == \"custom\" or vocab_size == 32000, \"The vocab from Meta has 32K tokens\"\n",
    "\n",
    "# various inits, derived attributes, I/O setup\n",
    "ddp = int(os.environ.get(\"RANK\", -1)) != -1  # is this a ddp run?\n",
    "if ddp:\n",
    "    init_process_group(backend=\"nccl\")\n",
    "    ddp_rank = int(os.environ[\"RANK\"])\n",
    "    ddp_local_rank = int(os.environ[\"LOCAL_RANK\"])\n",
    "    ddp_world_size = int(os.environ[\"WORLD_SIZE\"])\n",
    "    device = f\"cuda:{ddp_local_rank}\"\n",
    "    torch.cuda.set_device(device)\n",
    "    master_process = ddp_rank == 0  # this process will do logging, checkpointing etc.\n",
    "    seed_offset = ddp_rank  # each process gets a different seed\n",
    "    # world_size number of processes will be training simultaneously, so we can scale\n",
    "    # down the desired gradient accumulation iterations per process proportionally\n",
    "    assert gradient_accumulation_steps % ddp_world_size == 0\n",
    "    gradient_accumulation_steps //= ddp_world_size\n",
    "else:\n",
    "    # if not ddp, we are running on a single gpu, and one process\n",
    "    master_process = True\n",
    "    seed_offset = 0\n",
    "    ddp_world_size = 1\n",
    "tokens_per_iter = gradient_accumulation_steps * ddp_world_size * batch_size * max_seq_len\n",
    "if master_process:\n",
    "    print(f\"tokens per iteration will be: {tokens_per_iter:,}\")\n",
    "    print(f\"breaks down as: {gradient_accumulation_steps} grad accum steps * {ddp_world_size} processes * {batch_size} batch size * {max_seq_len} max seq len\")\n",
    "\n",
    "if master_process:\n",
    "    os.makedirs(out_dir, exist_ok=True)\n",
    "torch.manual_seed(1337 + seed_offset)\n",
    "torch.backends.cuda.matmul.allow_tf32 = True  # allow tf32 on matmul\n",
    "torch.backends.cudnn.allow_tf32 = True  # allow tf32 on cudnn\n",
    "device_type = \"cuda\" if \"cuda\" in device else \"cpu\"  # for later use in torch.autocast\n",
    "# note: float16 data type will automatically use a GradScaler\n",
    "ptdtype = {\"float32\": torch.float32, \"bfloat16\": torch.bfloat16, \"float16\": torch.float16}[dtype]\n",
    "ctx = (\n",
    "    nullcontext()\n",
    "    if device_type == \"cpu\"\n",
    "    else torch.amp.autocast(device_type=device_type, dtype=ptdtype)\n",
    ")"
   ]
  },
  {
   "cell_type": "markdown",
   "metadata": {},
   "source": [
    "## Load data"
   ]
  },
  {
   "cell_type": "code",
   "execution_count": 5,
   "metadata": {},
   "outputs": [],
   "source": [
    "\n",
    "# task-specific setup\n",
    "iter_batches = partial(\n",
    "    Task.iter_batches,\n",
    "    batch_size=batch_size,\n",
    "    max_seq_len=max_seq_len,\n",
    "    vocab_size=vocab_size,\n",
    "    vocab_source=vocab_source,\n",
    "    device=device,\n",
    "    num_workers=0,\n",
    "    num_future_tokens=num_future_tokens,\n",
    ")\n",
    "\n",
    "# init these up here, can override if init_from='resume' (i.e. from a checkpoint)\n",
    "iter_num = 0\n",
    "best_val_loss = 1e9"
   ]
  },
  {
   "cell_type": "markdown",
   "metadata": {},
   "source": [
    "## Load model"
   ]
  },
  {
   "cell_type": "code",
   "execution_count": 6,
   "metadata": {},
   "outputs": [
    {
     "name": "stdout",
     "output_type": "stream",
     "text": [
      "Initializing a new model from scratch\n",
      "Number of model parameters: 8438464\n"
     ]
    }
   ],
   "source": [
    "\n",
    "# model init\n",
    "model_args = dict(\n",
    "    dim=dim,\n",
    "    n_layers=n_layers,\n",
    "    n_heads=n_heads,\n",
    "    n_kv_heads=n_kv_heads,\n",
    "    vocab_size=vocab_size,\n",
    "    multiple_of=multiple_of,\n",
    "    max_seq_len=max_seq_len,\n",
    "    dropout=dropout,\n",
    "    # num_output_heads=num_output_heads,\n",
    ")  # start with model_args from command line\n",
    "if init_from == \"scratch\":\n",
    "    # init a new model from scratch\n",
    "    print(\"Initializing a new model from scratch\")\n",
    "    gptconf = ModelArgs(**model_args)\n",
    "    model = Transformer(gptconf)\n",
    "elif init_from == \"resume\":\n",
    "    print(f\"Resuming training from {out_dir}\")\n",
    "    # resume training from a checkpoint.\n",
    "    ckpt_path = os.path.join(out_dir, \"ckpt.pt\")\n",
    "    checkpoint = torch.load(ckpt_path, map_location=device)\n",
    "    checkpoint_model_args = checkpoint[\"model_args\"]\n",
    "    # force these config attributes to be equal otherwise we can't even resume training\n",
    "    # the rest of the attributes (e.g. dropout) can stay as desired from command line\n",
    "    for k in [\"dim\", \"n_layers\", \"n_heads\", \"n_kv_heads\", \"vocab_size\", \"multiple_of\", \"max_seq_len\"]:\n",
    "        model_args[k] = checkpoint_model_args[k]\n",
    "    # create the model\n",
    "    gptconf = ModelArgs(**model_args)\n",
    "    model = Transformer(gptconf)\n",
    "    state_dict = checkpoint[\"model\"]\n",
    "    # fix the keys of the state dictionary :(\n",
    "    # honestly no idea how checkpoints sometimes get this prefix, have to debug more\n",
    "    unwanted_prefix = \"_orig_mod.\"\n",
    "    for k, v in list(state_dict.items()):\n",
    "        if k.startswith(unwanted_prefix):\n",
    "            state_dict[k[len(unwanted_prefix) :]] = state_dict.pop(k)\n",
    "    model.load_state_dict(state_dict)\n",
    "    iter_num = checkpoint[\"iter_num\"]\n",
    "    best_val_loss = checkpoint[\"best_val_loss\"]\n",
    "model.to(device)\n",
    "\n",
    "# num of model parameters\n",
    "print(f\"Number of model parameters: {sum(p.numel() for p in model.parameters())}\")"
   ]
  },
  {
   "cell_type": "code",
   "execution_count": 7,
   "metadata": {},
   "outputs": [
    {
     "name": "stderr",
     "output_type": "stream",
     "text": [
      "/tmp/ipykernel_418458/3130112832.py:2: FutureWarning: `torch.cuda.amp.GradScaler(args...)` is deprecated. Please use `torch.amp.GradScaler('cuda', args...)` instead.\n",
      "  scaler = torch.cuda.amp.GradScaler(enabled=(dtype == \"float16\"))\n"
     ]
    },
    {
     "name": "stdout",
     "output_type": "stream",
     "text": [
      "num decayed parameter tensors: 39, with 8,437,760 parameters\n",
      "num non-decayed parameter tensors: 11, with 704 parameters\n",
      "using fused AdamW: False\n"
     ]
    }
   ],
   "source": [
    "\n",
    "# initialize a GradScaler. If enabled=False scaler is a no-op\n",
    "scaler = torch.cuda.amp.GradScaler(enabled=(dtype == \"float16\"))\n",
    "\n",
    "# optimizer\n",
    "optimizer = model.configure_optimizers(weight_decay, learning_rate, (beta1, beta2), device_type)\n",
    "if init_from == \"resume\" and \"optimizer\" in checkpoint:\n",
    "    optimizer.load_state_dict(checkpoint[\"optimizer\"])\n",
    "checkpoint = None  # free up memory\n"
   ]
  },
  {
   "cell_type": "markdown",
   "metadata": {},
   "source": [
    "## Compile model"
   ]
  },
  {
   "cell_type": "code",
   "execution_count": 8,
   "metadata": {},
   "outputs": [
    {
     "name": "stdout",
     "output_type": "stream",
     "text": [
      "compiling the model... (takes a ~minute)\n",
      "Created a PretokDataset with rng seed 42\n"
     ]
    }
   ],
   "source": [
    "\n",
    "# compile the model\n",
    "if compile:\n",
    "    print(\"compiling the model... (takes a ~minute)\")\n",
    "    unoptimized_model = model\n",
    "    model = torch.compile(model)  # requires PyTorch 2.0\n",
    "\n",
    "# wrap model into DDP container\n",
    "if ddp:\n",
    "    # Ignore the `freqs_cis` buffer so that DDP does not broadcast it at\n",
    "    # construction time since NCCL does not support `ComplexFloat`\n",
    "    prefix = \"_orig_mod.\" if compile else \"\"\n",
    "    model._ddp_params_and_buffers_to_ignore = {prefix + \"freqs_cis\"}\n",
    "    model = DDP(model, device_ids=[ddp_local_rank])\n",
    "\n",
    "# helps estimate an arbitrarily accurate loss over either split using many batches\n",
    "@torch.no_grad()\n",
    "def estimate_loss():\n",
    "    out = {}\n",
    "    model.eval()\n",
    "    for split in [\"train\", \"val\"]:\n",
    "        batch_iter = iter_batches(split=split)\n",
    "        losses = torch.zeros(eval_iters)  # keep on CPU\n",
    "        for k in range(eval_iters):\n",
    "            X, Y = next(batch_iter)\n",
    "            with ctx:\n",
    "                logits = model(X, Y)\n",
    "                loss = raw_model.last_loss\n",
    "            losses[k] = loss.item()\n",
    "        out[split] = losses.mean()\n",
    "    model.train()\n",
    "    return out\n",
    "\n",
    "# learning rate decay scheduler (cosine with warmup)\n",
    "def get_lr(it):\n",
    "    # 1) linear warmup for warmup_iters steps\n",
    "    if it < warmup_iters:\n",
    "        return learning_rate * it / warmup_iters\n",
    "    # 2) if it > lr_decay_iters, return min learning rate\n",
    "    if it > lr_decay_iters:\n",
    "        return min_lr\n",
    "    # 3) in between, use cosine decay down to min learning rate\n",
    "    decay_ratio = (it - warmup_iters) / (lr_decay_iters - warmup_iters)\n",
    "    assert 0 <= decay_ratio <= 1\n",
    "    coeff = 0.5 * (1.0 + math.cos(math.pi * decay_ratio))  # coeff ranges 0..1\n",
    "    return min_lr + coeff * (learning_rate - min_lr)\n",
    "\n",
    "# logging\n",
    "if wandb_log and master_process:\n",
    "    import wandb\n",
    "    wandb.init(project=wandb_project, name=wandb_run_name, config=config)\n",
    "\n",
    "# training loop\n",
    "train_batch_iter = iter_batches(split=\"train\")\n",
    "X, Y = next(train_batch_iter)  # fetch the very first batch\n"
   ]
  },
  {
   "cell_type": "code",
   "execution_count": 9,
   "metadata": {},
   "outputs": [
    {
     "data": {
      "text/plain": [
       "{'dim': 64,\n",
       " 'n_layers': 5,\n",
       " 'n_heads': 8,\n",
       " 'n_kv_heads': 4,\n",
       " 'vocab_size': 32000,\n",
       " 'vocab_source': 'llama2',\n",
       " 'hidden_dim': None,\n",
       " 'multiple_of': 32,\n",
       " 'norm_eps': 1e-05,\n",
       " 'max_seq_len': 512,\n",
       " 'dropout': 0.0,\n",
       " 'num_future_tokens': 4}"
      ]
     },
     "execution_count": 9,
     "metadata": {},
     "output_type": "execute_result"
    }
   ],
   "source": [
    "ModelArgs(**model_args).__dict__"
   ]
  },
  {
   "cell_type": "code",
   "execution_count": 13,
   "metadata": {},
   "outputs": [
    {
     "data": {
      "text/plain": [
       "torch.Size([3, 508, 4, 32000])"
      ]
     },
     "execution_count": 13,
     "metadata": {},
     "output_type": "execute_result"
    }
   ],
   "source": [
    "output = model(X, Y)\n",
    "output.shape"
   ]
  },
  {
   "cell_type": "code",
   "execution_count": 10,
   "metadata": {},
   "outputs": [
    {
     "data": {
      "text/plain": [
       "(torch.Size([3, 508]), torch.Size([3, 508, 4]))"
      ]
     },
     "execution_count": 10,
     "metadata": {},
     "output_type": "execute_result"
    }
   ],
   "source": [
    "X.shape, Y.shape"
   ]
  },
  {
   "cell_type": "code",
   "execution_count": 11,
   "metadata": {},
   "outputs": [
    {
     "data": {
      "text/plain": [
       "(tensor([[21599,  1357, 29892,  ...,  5941,   670,  5716],\n",
       "         [  508,   366,  3113,  ...,  2688, 22399,   304],\n",
       "         [  394,   819, 29991,  ..., 17096, 29889,   739]]),\n",
       " tensor([[[ 1357, 29892,   825,   526],\n",
       "          [29892,   825,   526,   366],\n",
       "          [  825,   526,   366,  2599],\n",
       "          ...,\n",
       "          [  670,  5716,   322,  1476],\n",
       "          [ 5716,   322,  1476,   263],\n",
       "          [  322,  1476,   263,   304]],\n",
       " \n",
       "         [[  366,  3113,  1371,   592],\n",
       "          [ 3113,  1371,   592,   679],\n",
       "          [ 1371,   592,   679,   590],\n",
       "          ...,\n",
       "          [22399,   304,  7952,  5941],\n",
       "          [  304,  7952,  5941, 29892],\n",
       "          [ 7952,  5941, 29892,   541]],\n",
       " \n",
       "         [[  819, 29991,   739,   471],\n",
       "          [29991,   739,   471,   278],\n",
       "          [  739,   471,   278,  1900],\n",
       "          ...,\n",
       "          [29889,   739,  4446,   263],\n",
       "          [  739,  4446,   263,  8580],\n",
       "          [ 4446,   263,  8580,   322]]]))"
      ]
     },
     "execution_count": 11,
     "metadata": {},
     "output_type": "execute_result"
    }
   ],
   "source": [
    "X, Y"
   ]
  },
  {
   "cell_type": "code",
   "execution_count": 10,
   "metadata": {},
   "outputs": [],
   "source": [
    "output = model(X, Y)"
   ]
  },
  {
   "cell_type": "code",
   "execution_count": 11,
   "metadata": {},
   "outputs": [
    {
     "data": {
      "text/plain": [
       "torch.Size([3, 508, 4, 32000])"
      ]
     },
     "execution_count": 11,
     "metadata": {},
     "output_type": "execute_result"
    }
   ],
   "source": [
    "output.shape"
   ]
  },
  {
   "cell_type": "code",
   "execution_count": 17,
   "metadata": {},
   "outputs": [
    {
     "data": {
      "text/plain": [
       "torch.Size([3, 509, 4])"
      ]
     },
     "execution_count": 17,
     "metadata": {},
     "output_type": "execute_result"
    }
   ],
   "source": [
    "# trying: batch=3, num_output_heads=4, seq_len=5\n",
    "# desired output shape: (batch_size, seq_len, num_predictions)\n",
    "\n",
    "# -> (batch_size, seq_len-num_output_heads+1, num_output_heads) ~ (3, 2, 4)\n",
    "Y.shape\n",
    "# y.shape"
   ]
  },
  {
   "cell_type": "code",
   "execution_count": 19,
   "metadata": {},
   "outputs": [
    {
     "data": {
      "text/plain": [
       "tensor([[[ 1,  2,  3,  4],\n",
       "         [ 2,  3,  4,  5],\n",
       "         [ 3,  4,  5,  6],\n",
       "         [ 4,  5,  6,  7],\n",
       "         [ 5,  6,  7,  8]],\n",
       "\n",
       "        [[ 4,  5,  6,  7],\n",
       "         [ 5,  6,  7,  8],\n",
       "         [ 6,  7,  8,  9],\n",
       "         [ 7,  8,  9, 10],\n",
       "         [ 8,  9, 10, 11]],\n",
       "\n",
       "        [[ 7,  8,  9, 10],\n",
       "         [ 8,  9, 10, 11],\n",
       "         [ 9, 10, 11, 12],\n",
       "         [10, 11, 12, 13],\n",
       "         [11, 12, 13, 14]]])"
      ]
     },
     "execution_count": 19,
     "metadata": {},
     "output_type": "execute_result"
    }
   ],
   "source": []
  },
  {
   "cell_type": "code",
   "execution_count": null,
   "metadata": {},
   "outputs": [],
   "source": [
    "\n",
    "t0 = time.time()\n",
    "local_iter_num = 0  # number of iterations in the lifetime of this process\n",
    "raw_model = model.module if ddp else model  # unwrap DDP container if needed\n",
    "running_mfu = -1.0\n",
    "while True:\n",
    "    # determine and set the learning rate for this iteration\n",
    "    lr = get_lr(iter_num) if decay_lr else learning_rate\n",
    "    for param_group in optimizer.param_groups:\n",
    "        param_group[\"lr\"] = lr\n",
    "\n",
    "    # evaluate the loss on train/val sets and write checkpoints\n",
    "    if iter_num % eval_interval == 0 and master_process:\n",
    "        losses = estimate_loss()\n",
    "        print(f\"step {iter_num}: train loss {losses['train']:.4f}, val loss {losses['val']:.4f}\")\n",
    "        if wandb_log:\n",
    "            try:\n",
    "                wandb.log(\n",
    "                    {\n",
    "                        \"iter\": iter_num,\n",
    "                        \"tokens\": iter_num * tokens_per_iter,\n",
    "                        \"loss/train\": losses[\"train\"],\n",
    "                        \"loss/val\": losses[\"val\"],\n",
    "                        \"lr\": lr,\n",
    "                        \"mfu\": running_mfu * 100,  # convert to percentage\n",
    "                    }, step = iter_num\n",
    "                )\n",
    "            except Exception as e:\n",
    "                print(f\"logging to wandb failed: {e}\")\n",
    "        if losses[\"val\"] < best_val_loss or always_save_checkpoint:\n",
    "            best_val_loss = losses[\"val\"]\n",
    "            if iter_num > 0:\n",
    "                checkpoint = {\n",
    "                    \"model\": raw_model.state_dict(),\n",
    "                    \"optimizer\": optimizer.state_dict(),\n",
    "                    \"model_args\": model_args,\n",
    "                    \"iter_num\": iter_num,\n",
    "                    \"best_val_loss\": best_val_loss,\n",
    "                    \"config\": config,\n",
    "                }\n",
    "                print(f\"saving checkpoint to {out_dir}\")\n",
    "                torch.save(checkpoint, os.path.join(out_dir, \"ckpt.pt\"))\n",
    "                model_export(raw_model, os.path.join(out_dir, \"model.bin\"), version=0)\n",
    "    if iter_num == 0 and eval_only:\n",
    "        break\n",
    "\n",
    "    # forward backward update, with optional gradient accumulation to simulate larger batch size\n",
    "    # and using the GradScaler if data type is float16\n",
    "    for micro_step in range(gradient_accumulation_steps):\n",
    "        if ddp:\n",
    "            # in DDP training we only need to sync gradients at the last micro step.\n",
    "            # the official way to do this is with model.no_sync() context manager, but\n",
    "            # I really dislike that this bloats the code and forces us to repeat code\n",
    "            # looking at the source of that context manager, it just toggles this variable\n",
    "            model.require_backward_grad_sync = micro_step == gradient_accumulation_steps - 1\n",
    "        with ctx:\n",
    "            logits = model(X, Y)\n",
    "            loss = raw_model.last_loss\n",
    "            loss = loss / gradient_accumulation_steps\n",
    "        # immediately async prefetch next batch while model is doing the forward pass on the GPU\n",
    "        X, Y = next(train_batch_iter)\n",
    "        # backward pass, with gradient scaling if training in fp16\n",
    "        scaler.scale(loss).backward()\n",
    "    # clip the gradient\n",
    "    if grad_clip != 0.0:\n",
    "        scaler.unscale_(optimizer)\n",
    "        torch.nn.utils.clip_grad_norm_(model.parameters(), grad_clip)\n",
    "    # step the optimizer and scaler if training in fp16\n",
    "    scaler.step(optimizer)\n",
    "    scaler.update()\n",
    "    # flush the gradients as soon as we can, no need for this memory anymore\n",
    "    optimizer.zero_grad(set_to_none=True)\n",
    "\n",
    "    # timing and logging\n",
    "    t1 = time.time()\n",
    "    dt = t1 - t0\n",
    "    t0 = t1\n",
    "    if iter_num % log_interval == 0 and master_process:\n",
    "        # get loss as float, scale up due to the divide above. note: this is a CPU-GPU sync point\n",
    "        lossf = loss.item() * gradient_accumulation_steps\n",
    "        if local_iter_num >= 5:  # let the training loop settle a bit\n",
    "            mfu = raw_model.estimate_mfu(batch_size * gradient_accumulation_steps, dt)\n",
    "            running_mfu = mfu if running_mfu == -1.0 else 0.9 * running_mfu + 0.1 * mfu\n",
    "        print(\n",
    "            f\"{iter_num} | loss {lossf:.4f} | lr {lr:e} | {dt*1000:.2f}ms | mfu {running_mfu*100:.2f}%\"\n",
    "        )\n",
    "    iter_num += 1\n",
    "    local_iter_num += 1\n",
    "\n",
    "    # termination conditions\n",
    "    if iter_num > max_iters:\n",
    "        break\n",
    "\n",
    "if ddp:\n",
    "    destroy_process_group()\n"
   ]
  },
  {
   "cell_type": "markdown",
   "metadata": {},
   "source": [
    "## Analyze parameters distribution"
   ]
  },
  {
   "cell_type": "code",
   "execution_count": 14,
   "metadata": {},
   "outputs": [
    {
     "name": "stdout",
     "output_type": "stream",
     "text": [
      "Total parameters: 8,438,464\n",
      "Output heads parameters: 8,192,000 (97.08%)\n",
      "Rest of network parameters: 246,464 (2.92%)\n",
      "\n",
      "Output heads breakdown:\n",
      "Head 0: 2,048,000 parameters\n",
      "Head 1: 2,048,000 parameters\n",
      "Head 2: 2,048,000 parameters\n",
      "Head 3: 2,048,000 parameters\n"
     ]
    }
   ],
   "source": [
    "import torch\n",
    "from model import Transformer, ModelArgs\n",
    "from training_utils import TrainingArgs\n",
    "\n",
    "def count_parameters(model):\n",
    "    \"\"\"Count the number of parameters in a model\"\"\"\n",
    "    return sum(p.numel() for p in model.parameters())\n",
    "\n",
    "def analyze_model_params():\n",
    "    # Load model configuration\n",
    "    model_args = ModelArgs(\n",
    "        dim=64,\n",
    "        n_layers=5,\n",
    "        n_heads=8,\n",
    "        n_kv_heads=4,\n",
    "        vocab_size=32000,\n",
    "        hidden_dim=None,\n",
    "        multiple_of=32,\n",
    "        dropout=0.0,\n",
    "        max_seq_len=512,\n",
    "        norm_eps=1e-5,\n",
    "        num_future_tokens=4\n",
    "    )\n",
    "\n",
    "    # Create model\n",
    "    model = Transformer(model_args)\n",
    "\n",
    "    # Count total parameters\n",
    "    total_params = count_parameters(model)\n",
    "\n",
    "    # Count parameters in output heads\n",
    "    output_heads_params = sum(p.numel() for head in model.output_heads for p in head.parameters())\n",
    "\n",
    "    # Count parameters in the rest of the network\n",
    "    rest_params = total_params - output_heads_params\n",
    "\n",
    "    # Print results\n",
    "    print(f\"Total parameters: {total_params:,}\")\n",
    "    print(f\"Output heads parameters: {output_heads_params:,} ({output_heads_params/total_params*100:.2f}%)\")\n",
    "    print(f\"Rest of network parameters: {rest_params:,} ({rest_params/total_params*100:.2f}%)\")\n",
    "\n",
    "    # Print breakdown of output heads\n",
    "    print(\"\\nOutput heads breakdown:\")\n",
    "    for i, head in enumerate(model.output_heads):\n",
    "        head_params = sum(p.numel() for p in head.parameters())\n",
    "        print(f\"Head {i}: {head_params:,} parameters\")\n",
    "\n",
    "if __name__ == \"__main__\":\n",
    "    analyze_model_params()"
   ]
  },
  {
   "cell_type": "code",
   "execution_count": null,
   "metadata": {},
   "outputs": [],
   "source": []
  },
  {
   "cell_type": "code",
   "execution_count": null,
   "metadata": {},
   "outputs": [],
   "source": []
  },
  {
   "cell_type": "markdown",
   "metadata": {},
   "source": [
    "# Playground\n",
    "\n",
    "## check model args working"
   ]
  },
  {
   "cell_type": "code",
   "execution_count": 7,
   "metadata": {},
   "outputs": [
    {
     "ename": "TypeError",
     "evalue": "ModelArgs.__init__() got an unexpected keyword argument 'a'",
     "output_type": "error",
     "traceback": [
      "\u001b[31m---------------------------------------------------------------------------\u001b[39m",
      "\u001b[31mTypeError\u001b[39m                                 Traceback (most recent call last)",
      "\u001b[36mCell\u001b[39m\u001b[36m \u001b[39m\u001b[32mIn[7]\u001b[39m\u001b[32m, line 3\u001b[39m\n\u001b[32m      1\u001b[39m \u001b[38;5;28;01mfrom\u001b[39;00m\u001b[38;5;250m \u001b[39m\u001b[34;01mmodel\u001b[39;00m\u001b[38;5;250m \u001b[39m\u001b[38;5;28;01mimport\u001b[39;00m ModelArgs\n\u001b[32m----> \u001b[39m\u001b[32m3\u001b[39m model_args = \u001b[43mModelArgs\u001b[49m\u001b[43m(\u001b[49m\u001b[43mvocab_size\u001b[49m\u001b[43m=\u001b[49m\u001b[32;43m1\u001b[39;49m\u001b[43m,\u001b[49m\u001b[43m \u001b[49m\u001b[43ma\u001b[49m\u001b[43m=\u001b[49m\u001b[32;43m3\u001b[39;49m\u001b[43m)\u001b[49m\n\u001b[32m      6\u001b[39m model_args\n",
      "\u001b[31mTypeError\u001b[39m: ModelArgs.__init__() got an unexpected keyword argument 'a'"
     ]
    }
   ],
   "source": [
    "from model import ModelArgs\n",
    "\n",
    "model_args = ModelArgs(vocab_size=1, a=3)\n",
    "\n",
    "\n",
    "model_args"
   ]
  },
  {
   "cell_type": "code",
   "execution_count": 12,
   "metadata": {},
   "outputs": [
    {
     "name": "stdout",
     "output_type": "stream",
     "text": [
      "wrote out/TEST/model.bin\n"
     ]
    }
   ],
   "source": [
    "from export import model_export\n",
    "\n",
    "os.makedirs(\"out/TEST\", exist_ok=True)\n",
    "model_export(model, os.path.join(\"out/TEST\", \"model.bin\"), version=0)\n"
   ]
  },
  {
   "cell_type": "code",
   "execution_count": null,
   "metadata": {},
   "outputs": [],
   "source": []
  }
 ],
 "metadata": {
  "kernelspec": {
   "display_name": "bottlecap",
   "language": "python",
   "name": "python3"
  },
  "language_info": {
   "codemirror_mode": {
    "name": "ipython",
    "version": 3
   },
   "file_extension": ".py",
   "mimetype": "text/x-python",
   "name": "python",
   "nbconvert_exporter": "python",
   "pygments_lexer": "ipython3",
   "version": "3.13.2"
  }
 },
 "nbformat": 4,
 "nbformat_minor": 2
}
